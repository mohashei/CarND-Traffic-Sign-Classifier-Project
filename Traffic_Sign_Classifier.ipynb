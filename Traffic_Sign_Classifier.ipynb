{
  "nbformat": 4,
  "nbformat_minor": 0,
  "metadata": {
    "colab": {
      "name": "Traffic_Sign_Classifier.ipynb",
      "version": "0.3.2",
      "provenance": [],
      "collapsed_sections": [],
      "include_colab_link": true
    },
    "kernelspec": {
      "display_name": "Python 3",
      "language": "python",
      "name": "python3"
    },
    "accelerator": "GPU"
  },
  "cells": [
    {
      "cell_type": "markdown",
      "metadata": {
        "id": "view-in-github",
        "colab_type": "text"
      },
      "source": [
        "[View in Colaboratory](https://colab.research.google.com/github/mohashei/CarND-Traffic-Sign-Classifier-Project/blob/master/Traffic_Sign_Classifier.ipynb)"
      ]
    },
    {
      "metadata": {
        "id": "l0c3Dv2bp6jt",
        "colab_type": "text"
      },
      "cell_type": "markdown",
      "source": [
        "# Self-Driving Car Engineer Nanodegree\n",
        "\n",
        "## Deep Learning\n",
        "\n",
        "## Project: Build a Traffic Sign Recognition Classifier\n",
        "\n",
        "In this notebook, a template is provided for you to implement your functionality in stages, which is required to successfully complete this project. If additional code is required that cannot be included in the notebook, be sure that the Python code is successfully imported and included in your submission if necessary. \n",
        "\n",
        "> **Note**: Once you have completed all of the code implementations, you need to finalize your work by exporting the iPython Notebook as an HTML document. Before exporting the notebook to html, all of the code cells need to have been run so that reviewers can see the final implementation and output. You can then export the notebook by using the menu above and navigating to  \\n\",\n",
        "    \"**File -> Download as -> HTML (.html)**. Include the finished document along with this notebook as your submission. \n",
        "\n",
        "In addition to implementing code, there is a writeup to complete. The writeup should be completed in a separate file, which can be either a markdown file or a pdf document. There is a [write up template](https://github.com/udacity/CarND-Traffic-Sign-Classifier-Project/blob/master/writeup_template.md) that can be used to guide the writing process. Completing the code template and writeup template will cover all of the [rubric points](https://review.udacity.com/#!/rubrics/481/view) for this project.\n",
        "\n",
        "The [rubric](https://review.udacity.com/#!/rubrics/481/view) contains \"Stand Out Suggestions\" for enhancing the project beyond the minimum requirements. The stand out suggestions are optional. If you decide to pursue the \"stand out suggestions\", you can include the code in this Ipython notebook and also discuss the results in the writeup file.\n",
        "\n",
        "\n",
        ">**Note:** Code and Markdown cells can be executed using the **Shift + Enter** keyboard shortcut. In addition, Markdown cells can be edited by typically double-clicking the cell to enter edit mode."
      ]
    },
    {
      "metadata": {
        "id": "yhxMYKnrp6ju",
        "colab_type": "text"
      },
      "cell_type": "markdown",
      "source": [
        "---\n",
        "## Step 0: Load The Data"
      ]
    },
    {
      "metadata": {
        "id": "xhe6hRC5qro0",
        "colab_type": "code",
        "colab": {
          "resources": {
            "http://localhost:8080/nbextensions/google.colab/files.js": {
              "data": "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",
              "ok": true,
              "headers": [
                [
                  "content-type",
                  "application/javascript"
                ]
              ],
              "status": 200,
              "status_text": ""
            }
          },
          "base_uri": "https://localhost:8080/",
          "height": 188
        },
        "outputId": "83eebe4d-4b32-43af-c7ee-0481a2891338"
      },
      "cell_type": "code",
      "source": [
        "from google.colab import files\n",
        "\n",
        "uploaded = files.upload()\n",
        "\n",
        "for fn in uploaded.keys():\n",
        "  print('User uploaded file \"{name}\" with length {length} bytes'.format(\n",
        "      name=fn, length=len(uploaded[fn])))"
      ],
      "execution_count": 3,
      "outputs": [
        {
          "output_type": "display_data",
          "data": {
            "text/html": [
              "\n",
              "     <input type=\"file\" id=\"files-bdcfcf4a-cdf8-4811-90d9-d8c970891629\" name=\"files[]\" multiple disabled />\n",
              "     <output id=\"result-bdcfcf4a-cdf8-4811-90d9-d8c970891629\">\n",
              "      Upload widget is only available when the cell has been executed in the\n",
              "      current browser session. Please rerun this cell to enable.\n",
              "      </output>\n",
              "      <script src=\"/nbextensions/google.colab/files.js\"></script> "
            ],
            "text/plain": [
              "<IPython.core.display.HTML object>"
            ]
          },
          "metadata": {
            "tags": []
          }
        },
        {
          "output_type": "stream",
          "text": [
            "Saving test.p to test.p\n",
            "Saving train.p to train.p\n",
            "Saving valid.p to valid.p\n",
            "User uploaded file \"test.p\" with length 38888118 bytes\n",
            "User uploaded file \"train.p\" with length 107146452 bytes\n",
            "User uploaded file \"valid.p\" with length 13578712 bytes\n"
          ],
          "name": "stdout"
        }
      ]
    },
    {
      "metadata": {
        "id": "5RXrd2r3p6jw",
        "colab_type": "code",
        "colab": {}
      },
      "cell_type": "code",
      "source": [
        "# Load pickled data\n",
        "import pickle\n",
        "\n",
        "# TODO: Fill this in based on where you saved the training and testing data\n",
        "\n",
        "training_file = 'train.p'\n",
        "validation_file= 'valid.p'\n",
        "testing_file = 'test.p'\n",
        "\n",
        "with open(training_file, mode='rb') as f:\n",
        "    train = pickle.load(f)\n",
        "with open(validation_file, mode='rb') as f:\n",
        "    valid = pickle.load(f)\n",
        "with open(testing_file, mode='rb') as f:\n",
        "    test = pickle.load(f)\n",
        "    \n",
        "X_train, y_train = train['features'], train['labels']\n",
        "X_valid, y_valid = valid['features'], valid['labels']\n",
        "X_test, y_test = test['features'], test['labels']"
      ],
      "execution_count": 0,
      "outputs": []
    },
    {
      "metadata": {
        "id": "yV7DwNgrp6jz",
        "colab_type": "text"
      },
      "cell_type": "markdown",
      "source": [
        "---\n",
        "\n",
        "## Step 1: Dataset Summary & Exploration\n",
        "\n",
        "The pickled data is a dictionary with 4 key/value pairs:\n",
        "\n",
        "- `'features'` is a 4D array containing raw pixel data of the traffic sign images, (num examples, width, height, channels).\n",
        "- `'labels'` is a 1D array containing the label/class id of the traffic sign. The file `signnames.csv` contains id -> name mappings for each id.\n",
        "- `'sizes'` is a list containing tuples, (width, height) representing the original width and height the image.\n",
        "- `'coords'` is a list containing tuples, (x1, y1, x2, y2) representing coordinates of a bounding box around the sign in the image. **THESE COORDINATES ASSUME THE ORIGINAL IMAGE. THE PICKLED DATA CONTAINS RESIZED VERSIONS (32 by 32) OF THESE IMAGES**\n",
        "\n",
        "Complete the basic data summary below. Use python, numpy and/or pandas methods to calculate the data summary rather than hard coding the results. For example, the [pandas shape method](http://pandas.pydata.org/pandas-docs/stable/generated/pandas.DataFrame.shape.html) might be useful for calculating some of the summary results. "
      ]
    },
    {
      "metadata": {
        "id": "Bn7LKF5Bp6jz",
        "colab_type": "text"
      },
      "cell_type": "markdown",
      "source": [
        "### Provide a Basic Summary of the Data Set Using Python, Numpy and/or Pandas"
      ]
    },
    {
      "metadata": {
        "id": "Ro63QbNUfJHJ",
        "colab_type": "code",
        "colab": {
          "base_uri": "https://localhost:8080/",
          "height": 102
        },
        "outputId": "5cc37657-8795-4d22-9966-886ff1119343"
      },
      "cell_type": "code",
      "source": [
        "### Replace each question mark with the appropriate value. \n",
        "### Use python, pandas or numpy methods rather than hard coding the results\n",
        "\n",
        "# TODO: Number of training examples\n",
        "n_train = y_train.size\n",
        "\n",
        "# TODO: Number of validation examples\n",
        "n_validation = y_valid.size\n",
        "\n",
        "# TODO: Number of testing examples.\n",
        "n_test = y_test.size\n",
        "\n",
        "# TODO: What's the shape of an traffic sign image?\n",
        "image_shape = X_train.shape[1:3]\n",
        "\n",
        "# TODO: How many unique classes/labels there are in the dataset.\n",
        "n_classes = max(max(y_train),max(y_test),max(y_valid))+1\n",
        "\n",
        "print(\"Number of training examples =\", n_train)\n",
        "print(\"Number of validation examples =\", n_validation)\n",
        "print(\"Number of testing examples =\", n_test)\n",
        "print(\"Image data shape =\", image_shape)\n",
        "print(\"Number of classes =\", n_classes)"
      ],
      "execution_count": 270,
      "outputs": [
        {
          "output_type": "stream",
          "text": [
            "Number of training examples = 34799\n",
            "Number of validation examples = 4410\n",
            "Number of testing examples = 12630\n",
            "Image data shape = (32, 32)\n",
            "Number of classes = 43\n"
          ],
          "name": "stdout"
        }
      ]
    },
    {
      "metadata": {
        "id": "ntV4vc3Dp6j3",
        "colab_type": "text"
      },
      "cell_type": "markdown",
      "source": [
        "### Include an exploratory visualization of the dataset"
      ]
    },
    {
      "metadata": {
        "id": "CnuRC2NWp6j3",
        "colab_type": "text"
      },
      "cell_type": "markdown",
      "source": [
        "Visualize the German Traffic Signs Dataset using the pickled file(s). This is open ended, suggestions include: plotting traffic sign images, plotting the count of each sign, etc. \n",
        "\n",
        "The [Matplotlib](http://matplotlib.org/) [examples](http://matplotlib.org/examples/index.html) and [gallery](http://matplotlib.org/gallery.html) pages are a great resource for doing visualizations in Python.\n",
        "\n",
        "**NOTE:** It's recommended you start with something simple first. If you wish to do more, come back to it after you've completed the rest of the sections. It can be interesting to look at the distribution of classes in the training, validation and test set. Is the distribution the same? Are there more examples of some classes than others?"
      ]
    },
    {
      "metadata": {
        "id": "MP3Av6Fep6j4",
        "colab_type": "code",
        "colab": {
          "base_uri": "https://localhost:8080/",
          "height": 283
        },
        "outputId": "cf2945fc-7fd5-47dd-d4b5-fa5f50a489e8"
      },
      "cell_type": "code",
      "source": [
        "### Data exploration visualization code goes here.\n",
        "### Feel free to use as many code cells as needed.\n",
        "import matplotlib.pyplot as plt\n",
        "import numpy as np\n",
        "# Visualizations will be shown in the notebook.\n",
        "%matplotlib inline\n",
        "ind = np.random.randint(0,n_validation)\n",
        "plt.imshow((X_train[ind,:,:,:]))\n",
        "print(y_train[ind])"
      ],
      "execution_count": 271,
      "outputs": [
        {
          "output_type": "stream",
          "text": [
            "1\n"
          ],
          "name": "stdout"
        },
        {
          "output_type": "display_data",
          "data": {
            "image/png": "[encoded data removed]",
            "text/plain": [
              "<matplotlib.figure.Figure at 0x7f7f3898db38>"
            ]
          },
          "metadata": {
            "tags": []
          }
        }
      ]
    },
    {
      "metadata": {
        "id": "lTKwRIJJp6j6",
        "colab_type": "text"
      },
      "cell_type": "markdown",
      "source": [
        "----\n",
        "\n",
        "## Step 2: Design and Test a Model Architecture\n",
        "\n",
        "Design and implement a deep learning model that learns to recognize traffic signs. Train and test your model on the [German Traffic Sign Dataset](http://benchmark.ini.rub.de/?section=gtsrb&subsection=dataset).\n",
        "\n",
        "The LeNet-5 implementation shown in the [classroom](https://classroom.udacity.com/nanodegrees/nd013/parts/fbf77062-5703-404e-b60c-95b78b2f3f9e/modules/6df7ae49-c61c-4bb2-a23e-6527e69209ec/lessons/601ae704-1035-4287-8b11-e2c2716217ad/concepts/d4aca031-508f-4e0b-b493-e7b706120f81) at the end of the CNN lesson is a solid starting point. You'll have to change the number of classes and possibly the preprocessing, but aside from that it's plug and play! \n",
        "\n",
        "With the LeNet-5 solution from the lecture, you should expect a validation set accuracy of about 0.89. To meet specifications, the validation set accuracy will need to be at least 0.93. It is possible to get an even higher accuracy, but 0.93 is the minimum for a successful project submission. \n",
        "\n",
        "There are various aspects to consider when thinking about this problem:\n",
        "\n",
        "- Neural network architecture (is the network over or underfitting?)\n",
        "- Play around preprocessing techniques (normalization, rgb to grayscale, etc)\n",
        "- Number of examples per label (some have more than others).\n",
        "- Generate fake data.\n",
        "\n",
        "Here is an example of a [published baseline model on this problem](http://yann.lecun.com/exdb/publis/pdf/sermanet-ijcnn-11.pdf). It's not required to be familiar with the approach used in the paper but, it's good practice to try to read papers like these."
      ]
    },
    {
      "metadata": {
        "id": "9z4YeEBYp6j7",
        "colab_type": "text"
      },
      "cell_type": "markdown",
      "source": [
        "### Pre-process the Data Set (normalization, grayscale, etc.)"
      ]
    },
    {
      "metadata": {
        "id": "TJYpbArPp6j7",
        "colab_type": "text"
      },
      "cell_type": "markdown",
      "source": [
        "Minimally, the image data should be normalized so that the data has mean zero and equal variance. For image data, `(pixel - 128)/ 128` is a quick way to approximately normalize the data and can be used in this project. \n",
        "\n",
        "Other pre-processing steps are optional. You can try different techniques to see if it improves performance. \n",
        "\n",
        "Use the code cell (or multiple code cells, if necessary) to implement the first step of your project."
      ]
    },
    {
      "metadata": {
        "id": "CnHkEvvcp6j9",
        "colab_type": "code",
        "colab": {}
      },
      "cell_type": "code",
      "source": [
        "### Preprocess the data here. It is required to normalize the data. Other preprocessing steps could include \n",
        "### converting to grayscale, etc.\n",
        "### Feel free to use as many code cells as needed.\n",
        "#X_train = np.divide(X_train,np.tile(np.sum(X_train,axis=3),(3,1,1,1)).transpose((1,2,3,0)))\n",
        "#X_valid = np.divide(X_valid,np.tile(np.sum(X_valid,axis=3),(3,1,1,1)).transpose((1,2,3,0)))\n",
        "#X_test = np.divide(X_test,np.tile(np.sum(X_test,axis=3),(3,1,1,1)).transpose((1,2,3,0)))\n",
        "X_train = (X_train-128)/128\n",
        "X_valid = (X_valid-128)/128\n",
        "X_test = (X_test-128)/128"
      ],
      "execution_count": 0,
      "outputs": []
    },
    {
      "metadata": {
        "id": "ocMEpwg39ncd",
        "colab_type": "code",
        "colab": {
          "base_uri": "https://localhost:8080/",
          "height": 34
        },
        "outputId": "bd5eed24-2d0d-4667-c48b-9cfcd1ef3c83"
      },
      "cell_type": "code",
      "source": [
        "print(X_train[1,1,1,:], X_valid[1,1,1,:], X_test[1,1,1,:])"
      ],
      "execution_count": 252,
      "outputs": [
        {
          "output_type": "stream",
          "text": [
            "[1.2109375 1.1875    1.1875   ] [1.09375   1.09375   1.1015625] [1.734375  1.6484375 1.5078125]\n"
          ],
          "name": "stdout"
        }
      ]
    },
    {
      "metadata": {
        "id": "OGy6UMD5p6j_",
        "colab_type": "text"
      },
      "cell_type": "markdown",
      "source": [
        "### Model Architecture"
      ]
    },
    {
      "metadata": {
        "id": "ZF9cvnI2p6j_",
        "colab_type": "code",
        "colab": {}
      },
      "cell_type": "code",
      "source": [
        "### Define your architecture here.\n",
        "### Feel free to use as many code cells as needed.\n",
        "from math import sqrt\n",
        "\n",
        "def mult(shape):\n",
        "  r = 1\n",
        "  for x in shape:\n",
        "    r = r*x\n",
        "  return r\n",
        "\n",
        "def conv(x, shape, name, strides=(1,1,1,1),padding=\"VALID\"):\n",
        "  with tf.name_scope(name) as scope:\n",
        "    mu = 0\n",
        "    sigma = 1/sqrt(mult(shape))\n",
        "    C1_W = tf.Variable(tf.truncated_normal(shape=shape,mean=mu,stddev=sigma))\n",
        "    C1_b = tf.Variable(tf.zeros(shape[-1]))\n",
        "    x = tf.nn.conv2d(x,C1_W,strides=strides,padding=padding) + C1_b\n",
        "    return tf.nn.relu(x)\n",
        "\n",
        "def fc(x, shape, name, relu=1):\n",
        "  mu = 0\n",
        "  sigma = 1/sqrt(mult(shape))\n",
        "  with tf.name_scope(name) as scope:\n",
        "    fc1_W = tf.Variable(tf.truncated_normal(shape=shape,mean=mu,stddev=sigma))\n",
        "    fc1_b = tf.Variable(tf.zeros(shape[-1]))\n",
        "    x = tf.matmul(x,fc1_W) + fc1_b\n",
        "    if relu:\n",
        "      return tf.nn.relu(x)\n",
        "    else:\n",
        "      return x\n",
        "\n",
        "### Note for same padding, out height = ceil(height/stride), same for width\n",
        "def LeNet(input_tensor, keep_prob):\n",
        "  # data is 32x32x3\n",
        "  x = conv(input_tensor, shape=(5,5,3,6), name='l1', strides=(1,1,1,1),padding=\"VALID\")\n",
        "  # data is 28x28x6\n",
        "  x = conv(x, shape=(3,3,6,8), name='l2', strides=(1,1,1,1),padding=\"VALID\")\n",
        "  # data is 26x26x8\n",
        "  x = conv(x, shape=(5,5,8,14), name='l3', strides=(1,1,1,1),padding=\"VALID\")\n",
        "  # data is 22x22x10\n",
        "  x = conv(x, shape=(3,3,14,20), name='l4', strides=(1,1,1,1),padding=\"VALID\")\n",
        "  # data is 20x20x12\n",
        "  x = conv(x, shape=(5,5,20,26), name='l5', strides=(1,1,1,1),padding=\"VALID\")\n",
        "  # data is 16x16x14\n",
        "  x = conv(x, shape=(5,5,26,32), name='l6', strides=(1,1,1,1),padding=\"VALID\")\n",
        "  # data is 12x12x30\n",
        "  #x = tf.nn.max_pool(x, ksize=(1,2,2,1), strides=(1,2,2,1),padding=\"VALID\")\n",
        "  # data is 5x5x30\n",
        "  x = tf.contrib.layers.flatten(x)\n",
        "  y = tf.nn.dropout(x,keep_prob=keep_prob)\n",
        "  x = fc(y, shape=(4608,n_classes), name='l7', relu=0)\n",
        "  \n",
        "  return x, y"
      ],
      "execution_count": 0,
      "outputs": []
    },
    {
      "metadata": {
        "id": "mghgy3jiooUD",
        "colab_type": "code",
        "colab": {}
      },
      "cell_type": "code",
      "source": [
        "import tensorflow as tf\n",
        "x = tf.placeholder(tf.float32,(None,image_shape[0],image_shape[1],3))\n",
        "y = tf.placeholder(tf.int32,(None))\n",
        "k = tf.placeholder(tf.float32)\n",
        "one_hot_y = tf.one_hot(y,n_classes)"
      ],
      "execution_count": 0,
      "outputs": []
    },
    {
      "metadata": {
        "id": "KW4qtSr_p6kC",
        "colab_type": "text"
      },
      "cell_type": "markdown",
      "source": [
        "### Train, Validate and Test the Model"
      ]
    },
    {
      "metadata": {
        "id": "NxWZTHoHp6kC",
        "colab_type": "text"
      },
      "cell_type": "markdown",
      "source": [
        "A validation set can be used to assess how well the model is performing. A low accuracy on the training and validation\n",
        "sets imply underfitting. A high accuracy on the training set but low accuracy on the validation set implies overfitting."
      ]
    },
    {
      "metadata": {
        "id": "alDPQ9gGp6kE",
        "colab_type": "code",
        "colab": {}
      },
      "cell_type": "code",
      "source": [
        "### Train your model here.\n",
        "### Calculate and report the accuracy on the training and validation set.\n",
        "### Once a final model architecture is selected, \n",
        "### the accuracy on the test set should be calculated and reported as well.\n",
        "### Feel free to use as many code cells as needed.\n",
        "rate = 0.001\n",
        "logits, drops = LeNet(x, k)\n",
        "cross_entropy = tf.nn.softmax_cross_entropy_with_logits_v2(labels=one_hot_y,logits=logits)\n",
        "loss_operation = tf.reduce_mean(cross_entropy)\n",
        "optimizer = tf.train.AdamOptimizer(learning_rate=rate)\n",
        "training_operation = optimizer.minimize(loss_operation)"
      ],
      "execution_count": 0,
      "outputs": []
    },
    {
      "metadata": {
        "id": "FbovvYnorIY7",
        "colab_type": "code",
        "colab": {}
      },
      "cell_type": "code",
      "source": [
        "correct_prediction = tf.equal(tf.argmax(tf.nn.softmax(logits),1),tf.argmax(one_hot_y,1))\n",
        "accuracy_operation = tf.reduce_mean(tf.cast(correct_prediction,tf.float32))\n",
        "batch_size = 128\n",
        "def evaluate(X_data,y_data):\n",
        "  total_accuracy = 0\n",
        "  sess = tf.get_default_session()\n",
        "  for offset in range(0,n_validation,batch_size):\n",
        "    end = min(offset+batch_size,n_validation)\n",
        "    batch_x, batch_y = X_data[offset:end], y_data[offset:end]\n",
        "    [accuracy,drops_out] = sess.run([accuracy_operation, drops],feed_dict={x:batch_x,y:batch_y,k:1.0})\n",
        "    total_accuracy += (accuracy*batch_y.size)\n",
        "  return total_accuracy/n_validation, drops_out"
      ],
      "execution_count": 0,
      "outputs": []
    },
    {
      "metadata": {
        "id": "okl8Wtz1tq1l",
        "colab_type": "code",
        "colab": {
          "base_uri": "https://localhost:8080/",
          "height": 6834
        },
        "outputId": "bd4b7ef5-4a53-4e27-df21-fd45abcd4388"
      },
      "cell_type": "code",
      "source": [
        "epochs = 200\n",
        "with tf.Session() as sess:\n",
        "  sess.run(tf.global_variables_initializer())\n",
        "  \n",
        "  print(\"Training...\")\n",
        "  print()\n",
        "  for i in range(epochs):\n",
        "    inds = np.random.permutation(y_train.size)\n",
        "    for offset in range(0,n_train,batch_size):\n",
        "      end = min(offset+batch_size,n_train)\n",
        "      batch_x, batch_y = X_train[inds[offset:end]], y_train[inds[offset:end]]\n",
        "      sess.run(training_operation,feed_dict={x:batch_x,y:batch_y,k:0.5})\n",
        "    valid_accuracy, drops_out = evaluate(X_valid,y_valid)\n",
        "    print(\"EPOCH {} ...\".format(i+1))\n",
        "    print(\"Validation Accuray = {:.3f}\".format(valid_accuracy))\n",
        "    \n",
        "  saver = tf.train.Saver()\n",
        "  save_path = saver.save(sess, \"data/dm.ckpt\")\n",
        "  print('done saving at',save_path)"
      ],
      "execution_count": 277,
      "outputs": [
        {
          "output_type": "stream",
          "text": [
            "Training...\n",
            "\n",
            "EPOCH 1 ...\n",
            "Validation Accuray = 0.073\n",
            "EPOCH 2 ...\n",
            "Validation Accuray = 0.056\n",
            "EPOCH 3 ...\n",
            "Validation Accuray = 0.287\n",
            "EPOCH 4 ...\n",
            "Validation Accuray = 0.710\n",
            "EPOCH 5 ...\n",
            "Validation Accuray = 0.808\n",
            "EPOCH 6 ...\n",
            "Validation Accuray = 0.831\n",
            "EPOCH 7 ...\n",
            "Validation Accuray = 0.840\n",
            "EPOCH 8 ...\n",
            "Validation Accuray = 0.855\n",
            "EPOCH 9 ...\n",
            "Validation Accuray = 0.876\n",
            "EPOCH 10 ...\n",
            "Validation Accuray = 0.881\n",
            "EPOCH 11 ...\n",
            "Validation Accuray = 0.892\n",
            "EPOCH 12 ...\n",
            "Validation Accuray = 0.876\n",
            "EPOCH 13 ...\n",
            "Validation Accuray = 0.891\n",
            "EPOCH 14 ...\n",
            "Validation Accuray = 0.893\n",
            "EPOCH 15 ...\n",
            "Validation Accuray = 0.890\n",
            "EPOCH 16 ...\n",
            "Validation Accuray = 0.907\n",
            "EPOCH 17 ...\n",
            "Validation Accuray = 0.904\n",
            "EPOCH 18 ...\n",
            "Validation Accuray = 0.905\n",
            "EPOCH 19 ...\n",
            "Validation Accuray = 0.912\n",
            "EPOCH 20 ...\n",
            "Validation Accuray = 0.908\n",
            "EPOCH 21 ...\n",
            "Validation Accuray = 0.916\n",
            "EPOCH 22 ...\n",
            "Validation Accuray = 0.911\n",
            "EPOCH 23 ...\n",
            "Validation Accuray = 0.915\n",
            "EPOCH 24 ...\n",
            "Validation Accuray = 0.910\n",
            "EPOCH 25 ...\n",
            "Validation Accuray = 0.902\n",
            "EPOCH 26 ...\n",
            "Validation Accuray = 0.919\n",
            "EPOCH 27 ...\n",
            "Validation Accuray = 0.921\n",
            "EPOCH 28 ...\n",
            "Validation Accuray = 0.920\n",
            "EPOCH 29 ...\n",
            "Validation Accuray = 0.919\n",
            "EPOCH 30 ...\n",
            "Validation Accuray = 0.907\n",
            "EPOCH 31 ...\n",
            "Validation Accuray = 0.920\n",
            "EPOCH 32 ...\n",
            "Validation Accuray = 0.924\n",
            "EPOCH 33 ...\n",
            "Validation Accuray = 0.912\n",
            "EPOCH 35 ...\n",
            "Validation Accuray = 0.936\n",
            "EPOCH 36 ...\n",
            "Validation Accuray = 0.927\n",
            "EPOCH 37 ...\n",
            "Validation Accuray = 0.929\n",
            "EPOCH 38 ...\n",
            "Validation Accuray = 0.925\n",
            "EPOCH 39 ...\n",
            "Validation Accuray = 0.917\n",
            "EPOCH 40 ...\n",
            "Validation Accuray = 0.925\n",
            "EPOCH 41 ...\n",
            "Validation Accuray = 0.926\n",
            "EPOCH 42 ...\n",
            "Validation Accuray = 0.920\n",
            "EPOCH 43 ...\n",
            "Validation Accuray = 0.934\n",
            "EPOCH 44 ...\n",
            "Validation Accuray = 0.936\n",
            "EPOCH 45 ...\n",
            "Validation Accuray = 0.927\n",
            "EPOCH 46 ...\n",
            "Validation Accuray = 0.929\n",
            "EPOCH 47 ...\n",
            "Validation Accuray = 0.920\n",
            "EPOCH 48 ...\n",
            "Validation Accuray = 0.932\n",
            "EPOCH 49 ...\n",
            "Validation Accuray = 0.935\n",
            "EPOCH 50 ...\n",
            "Validation Accuray = 0.915\n",
            "EPOCH 51 ...\n",
            "Validation Accuray = 0.921\n",
            "EPOCH 52 ...\n",
            "Validation Accuray = 0.932\n",
            "EPOCH 53 ...\n",
            "Validation Accuray = 0.930\n",
            "EPOCH 54 ...\n",
            "Validation Accuray = 0.936\n",
            "EPOCH 55 ...\n",
            "Validation Accuray = 0.930\n",
            "EPOCH 56 ...\n",
            "Validation Accuray = 0.931\n",
            "EPOCH 57 ...\n",
            "Validation Accuray = 0.933\n",
            "EPOCH 58 ...\n",
            "Validation Accuray = 0.919\n",
            "EPOCH 59 ...\n",
            "Validation Accuray = 0.928\n",
            "EPOCH 60 ...\n",
            "Validation Accuray = 0.944\n",
            "EPOCH 61 ...\n",
            "Validation Accuray = 0.937\n",
            "EPOCH 62 ...\n",
            "Validation Accuray = 0.938\n",
            "EPOCH 63 ...\n",
            "Validation Accuray = 0.936\n",
            "EPOCH 64 ...\n",
            "Validation Accuray = 0.930\n",
            "EPOCH 65 ...\n",
            "Validation Accuray = 0.938\n",
            "EPOCH 66 ...\n",
            "Validation Accuray = 0.935\n",
            "EPOCH 67 ...\n",
            "Validation Accuray = 0.941\n",
            "EPOCH 68 ...\n",
            "Validation Accuray = 0.938\n",
            "EPOCH 69 ...\n",
            "Validation Accuray = 0.937\n",
            "EPOCH 70 ...\n",
            "Validation Accuray = 0.941\n",
            "EPOCH 71 ...\n",
            "Validation Accuray = 0.939\n"
          ],
          "name": "stdout"
        },
        {
          "output_type": "stream",
          "text": [
            "EPOCH 72 ...\n",
            "Validation Accuray = 0.941\n",
            "EPOCH 73 ...\n",
            "Validation Accuray = 0.936\n",
            "EPOCH 74 ...\n",
            "Validation Accuray = 0.938\n",
            "EPOCH 75 ...\n",
            "Validation Accuray = 0.932\n",
            "EPOCH 76 ...\n",
            "Validation Accuray = 0.941\n",
            "EPOCH 77 ...\n",
            "Validation Accuray = 0.940\n",
            "EPOCH 78 ...\n",
            "Validation Accuray = 0.943\n",
            "EPOCH 79 ...\n",
            "Validation Accuray = 0.939\n",
            "EPOCH 80 ...\n",
            "Validation Accuray = 0.951\n",
            "EPOCH 81 ...\n",
            "Validation Accuray = 0.923\n",
            "EPOCH 82 ...\n",
            "Validation Accuray = 0.939\n",
            "EPOCH 83 ...\n",
            "Validation Accuray = 0.946\n",
            "EPOCH 84 ...\n",
            "Validation Accuray = 0.947\n",
            "EPOCH 85 ...\n",
            "Validation Accuray = 0.946\n",
            "EPOCH 86 ...\n",
            "Validation Accuray = 0.934\n",
            "EPOCH 87 ...\n",
            "Validation Accuray = 0.942\n",
            "EPOCH 88 ...\n",
            "Validation Accuray = 0.932\n",
            "EPOCH 89 ...\n",
            "Validation Accuray = 0.937\n",
            "EPOCH 90 ...\n",
            "Validation Accuray = 0.942\n",
            "EPOCH 91 ...\n",
            "Validation Accuray = 0.938\n",
            "EPOCH 92 ...\n",
            "Validation Accuray = 0.942\n",
            "EPOCH 93 ...\n",
            "Validation Accuray = 0.944\n",
            "EPOCH 94 ...\n",
            "Validation Accuray = 0.938\n",
            "EPOCH 95 ...\n",
            "Validation Accuray = 0.941\n",
            "EPOCH 96 ...\n",
            "Validation Accuray = 0.944\n",
            "EPOCH 97 ...\n",
            "Validation Accuray = 0.940\n",
            "EPOCH 98 ...\n",
            "Validation Accuray = 0.946\n",
            "EPOCH 99 ...\n",
            "Validation Accuray = 0.944\n",
            "EPOCH 100 ...\n",
            "Validation Accuray = 0.936\n",
            "EPOCH 101 ...\n",
            "Validation Accuray = 0.944\n",
            "EPOCH 102 ...\n",
            "Validation Accuray = 0.938\n",
            "EPOCH 103 ...\n",
            "Validation Accuray = 0.945\n",
            "EPOCH 104 ...\n",
            "Validation Accuray = 0.949\n",
            "EPOCH 105 ...\n",
            "Validation Accuray = 0.946\n",
            "EPOCH 106 ...\n",
            "Validation Accuray = 0.925\n",
            "EPOCH 107 ...\n",
            "Validation Accuray = 0.945\n",
            "EPOCH 108 ...\n",
            "Validation Accuray = 0.945\n",
            "EPOCH 109 ...\n",
            "Validation Accuray = 0.944\n",
            "EPOCH 110 ...\n",
            "Validation Accuray = 0.950\n",
            "EPOCH 111 ...\n",
            "Validation Accuray = 0.949\n",
            "EPOCH 112 ...\n",
            "Validation Accuray = 0.948\n",
            "EPOCH 113 ...\n",
            "Validation Accuray = 0.947\n",
            "EPOCH 114 ...\n",
            "Validation Accuray = 0.933\n",
            "EPOCH 115 ...\n",
            "Validation Accuray = 0.941\n",
            "EPOCH 116 ...\n",
            "Validation Accuray = 0.948\n",
            "EPOCH 117 ...\n",
            "Validation Accuray = 0.947\n",
            "EPOCH 118 ...\n",
            "Validation Accuray = 0.945\n",
            "EPOCH 119 ...\n",
            "Validation Accuray = 0.949\n",
            "EPOCH 120 ...\n",
            "Validation Accuray = 0.939\n",
            "EPOCH 121 ...\n",
            "Validation Accuray = 0.945\n",
            "EPOCH 122 ...\n",
            "Validation Accuray = 0.951\n",
            "EPOCH 123 ...\n",
            "Validation Accuray = 0.947\n",
            "EPOCH 124 ...\n",
            "Validation Accuray = 0.948\n",
            "EPOCH 125 ...\n",
            "Validation Accuray = 0.947\n",
            "EPOCH 126 ...\n",
            "Validation Accuray = 0.950\n",
            "EPOCH 127 ...\n",
            "Validation Accuray = 0.950\n",
            "EPOCH 128 ...\n",
            "Validation Accuray = 0.949\n",
            "EPOCH 129 ...\n",
            "Validation Accuray = 0.953\n",
            "EPOCH 130 ...\n",
            "Validation Accuray = 0.951\n",
            "EPOCH 131 ...\n",
            "Validation Accuray = 0.939\n",
            "EPOCH 132 ...\n",
            "Validation Accuray = 0.951\n",
            "EPOCH 133 ...\n",
            "Validation Accuray = 0.949\n",
            "EPOCH 134 ...\n",
            "Validation Accuray = 0.946\n",
            "EPOCH 135 ...\n",
            "Validation Accuray = 0.952\n",
            "EPOCH 136 ...\n",
            "Validation Accuray = 0.939\n",
            "EPOCH 137 ...\n",
            "Validation Accuray = 0.949\n",
            "EPOCH 138 ...\n",
            "Validation Accuray = 0.951\n",
            "EPOCH 139 ...\n",
            "Validation Accuray = 0.951\n",
            "EPOCH 140 ...\n",
            "Validation Accuray = 0.950\n"
          ],
          "name": "stdout"
        },
        {
          "output_type": "stream",
          "text": [
            "EPOCH 141 ...\n",
            "Validation Accuray = 0.946\n",
            "EPOCH 142 ...\n",
            "Validation Accuray = 0.953\n",
            "EPOCH 143 ...\n",
            "Validation Accuray = 0.946\n",
            "EPOCH 144 ...\n",
            "Validation Accuray = 0.950\n",
            "EPOCH 145 ...\n",
            "Validation Accuray = 0.957\n",
            "EPOCH 146 ...\n",
            "Validation Accuray = 0.952\n",
            "EPOCH 147 ...\n",
            "Validation Accuray = 0.952\n",
            "EPOCH 148 ...\n",
            "Validation Accuray = 0.955\n",
            "EPOCH 149 ...\n",
            "Validation Accuray = 0.953\n",
            "EPOCH 150 ...\n",
            "Validation Accuray = 0.945\n",
            "EPOCH 151 ...\n",
            "Validation Accuray = 0.953\n",
            "EPOCH 152 ...\n",
            "Validation Accuray = 0.949\n",
            "EPOCH 153 ...\n",
            "Validation Accuray = 0.948\n",
            "EPOCH 154 ...\n",
            "Validation Accuray = 0.951\n",
            "EPOCH 155 ...\n",
            "Validation Accuray = 0.952\n",
            "EPOCH 156 ...\n",
            "Validation Accuray = 0.940\n",
            "EPOCH 157 ...\n",
            "Validation Accuray = 0.957\n",
            "EPOCH 158 ...\n",
            "Validation Accuray = 0.941\n",
            "EPOCH 159 ...\n",
            "Validation Accuray = 0.950\n",
            "EPOCH 160 ...\n",
            "Validation Accuray = 0.949\n",
            "EPOCH 161 ...\n",
            "Validation Accuray = 0.957\n",
            "EPOCH 162 ...\n",
            "Validation Accuray = 0.950\n",
            "EPOCH 163 ...\n",
            "Validation Accuray = 0.954\n",
            "EPOCH 164 ...\n",
            "Validation Accuray = 0.944\n",
            "EPOCH 165 ...\n",
            "Validation Accuray = 0.955\n",
            "EPOCH 166 ...\n",
            "Validation Accuray = 0.952\n",
            "EPOCH 167 ...\n",
            "Validation Accuray = 0.947\n",
            "EPOCH 168 ...\n",
            "Validation Accuray = 0.957\n",
            "EPOCH 169 ...\n",
            "Validation Accuray = 0.954\n",
            "EPOCH 170 ...\n",
            "Validation Accuray = 0.944\n",
            "EPOCH 171 ...\n",
            "Validation Accuray = 0.952\n",
            "EPOCH 172 ...\n",
            "Validation Accuray = 0.954\n",
            "EPOCH 173 ...\n",
            "Validation Accuray = 0.941\n",
            "EPOCH 174 ...\n",
            "Validation Accuray = 0.946\n",
            "EPOCH 175 ...\n",
            "Validation Accuray = 0.956\n",
            "EPOCH 176 ...\n",
            "Validation Accuray = 0.951\n",
            "EPOCH 177 ...\n",
            "Validation Accuray = 0.949\n",
            "EPOCH 178 ...\n",
            "Validation Accuray = 0.953\n",
            "EPOCH 179 ...\n",
            "Validation Accuray = 0.957\n",
            "EPOCH 180 ...\n",
            "Validation Accuray = 0.951\n",
            "EPOCH 181 ...\n",
            "Validation Accuray = 0.950\n",
            "EPOCH 182 ...\n",
            "Validation Accuray = 0.958\n",
            "EPOCH 183 ...\n",
            "Validation Accuray = 0.948\n",
            "EPOCH 184 ...\n",
            "Validation Accuray = 0.955\n",
            "EPOCH 185 ...\n",
            "Validation Accuray = 0.944\n",
            "EPOCH 186 ...\n",
            "Validation Accuray = 0.957\n",
            "EPOCH 187 ...\n",
            "Validation Accuray = 0.951\n",
            "EPOCH 188 ...\n",
            "Validation Accuray = 0.957\n",
            "EPOCH 189 ...\n",
            "Validation Accuray = 0.955\n",
            "EPOCH 190 ...\n",
            "Validation Accuray = 0.957\n",
            "EPOCH 191 ...\n",
            "Validation Accuray = 0.947\n",
            "EPOCH 192 ...\n",
            "Validation Accuray = 0.949\n",
            "EPOCH 193 ...\n",
            "Validation Accuray = 0.951\n",
            "EPOCH 194 ...\n",
            "Validation Accuray = 0.951\n",
            "EPOCH 195 ...\n",
            "Validation Accuray = 0.953\n",
            "EPOCH 196 ...\n",
            "Validation Accuray = 0.945\n",
            "EPOCH 197 ...\n",
            "Validation Accuray = 0.957\n",
            "EPOCH 198 ...\n",
            "Validation Accuray = 0.950\n",
            "EPOCH 199 ...\n",
            "Validation Accuray = 0.945\n",
            "EPOCH 200 ...\n",
            "Validation Accuray = 0.961\n",
            "done saving at data/dm.ckpt\n"
          ],
          "name": "stdout"
        }
      ]
    },
    {
      "metadata": {
        "id": "8W-1sMNkp6kH",
        "colab_type": "text"
      },
      "cell_type": "markdown",
      "source": [
        "---\n",
        "\n",
        "## Step 3: Test a Model on New Images\n",
        "\n",
        "To give yourself more insight into how your model is working, download at least five pictures of German traffic signs from the web and use your model to predict the traffic sign type.\n",
        "\n",
        "You may find `signnames.csv` useful as it contains mappings from the class id (integer) to the actual sign name."
      ]
    },
    {
      "metadata": {
        "id": "gxdGnfmnp6kI",
        "colab_type": "text"
      },
      "cell_type": "markdown",
      "source": [
        "### Load and Output the Images"
      ]
    },
    {
      "metadata": {
        "id": "zJLa3OZ_p6kJ",
        "colab_type": "code",
        "colab": {
          "base_uri": "https://localhost:8080/",
          "height": 283
        },
        "outputId": "e95c2218-2d79-41a5-d7f1-729f075cd3b9"
      },
      "cell_type": "code",
      "source": [
        "### Load the images and plot them here.\n",
        "### Feel free to use as many code cells as needed.\n",
        "ind = np.random.randint(0,n_test)\n",
        "plt.imshow((X_test[ind,:,:,:]))\n",
        "print(y_test[ind])"
      ],
      "execution_count": 278,
      "outputs": [
        {
          "output_type": "stream",
          "text": [
            "28\n"
          ],
          "name": "stdout"
        },
        {
          "output_type": "display_data",
          "data": {
            "image/png": "[encoded data removed]",
            "text/plain": [
              "<matplotlib.figure.Figure at 0x7f7e9809eb00>"
            ]
          },
          "metadata": {
            "tags": []
          }
        }
      ]
    },
    {
      "metadata": {
        "id": "6QVHJKbOIWO8",
        "colab_type": "code",
        "colab": {
          "base_uri": "https://localhost:8080/",
          "height": 351
        },
        "outputId": "49c37cf3-46b5-452e-d756-5156635a7cc0"
      },
      "cell_type": "code",
      "source": [
        "from google.colab import files\n",
        "files.download( \"/content/data/dm.cpkt.meta\" ) \n",
        "files.download( \"/content/data/checkpoint\" ) \n",
        "files.download( \"/content/data/dm.ckpt.data-00000-of-00001\" ) \n",
        "files.download( \"/content/data/dm.cpkt.index\" )"
      ],
      "execution_count": 306,
      "outputs": [
        {
          "output_type": "error",
          "ename": "FileNotFoundError",
          "evalue": "ignored",
          "traceback": [
            "\u001b[0;31m---------------------------------------------------------------------------\u001b[0m",
            "\u001b[0;31mFileNotFoundError\u001b[0m                         Traceback (most recent call last)",
            "\u001b[0;32m<ipython-input-306-4423005de09a>\u001b[0m in \u001b[0;36m<module>\u001b[0;34m()\u001b[0m\n\u001b[1;32m      1\u001b[0m \u001b[0;32mfrom\u001b[0m \u001b[0mgoogle\u001b[0m\u001b[0;34m.\u001b[0m\u001b[0mcolab\u001b[0m \u001b[0;32mimport\u001b[0m \u001b[0mfiles\u001b[0m\u001b[0;34m\u001b[0m\u001b[0m\n\u001b[0;32m----> 2\u001b[0;31m \u001b[0mfiles\u001b[0m\u001b[0;34m.\u001b[0m\u001b[0mdownload\u001b[0m\u001b[0;34m(\u001b[0m \u001b[0;34m\"/content/data/dm.cpkt.meta\"\u001b[0m \u001b[0;34m)\u001b[0m\u001b[0;34m\u001b[0m\u001b[0m\n\u001b[0m\u001b[1;32m      3\u001b[0m \u001b[0mfiles\u001b[0m\u001b[0;34m.\u001b[0m\u001b[0mdownload\u001b[0m\u001b[0;34m(\u001b[0m \u001b[0;34m\"/content/data/checkpoint\"\u001b[0m \u001b[0;34m)\u001b[0m\u001b[0;34m\u001b[0m\u001b[0m\n\u001b[1;32m      4\u001b[0m \u001b[0mfiles\u001b[0m\u001b[0;34m.\u001b[0m\u001b[0mdownload\u001b[0m\u001b[0;34m(\u001b[0m \u001b[0;34m\"/content/data/dm.ckpt.data-00000-of-00001\"\u001b[0m \u001b[0;34m)\u001b[0m\u001b[0;34m\u001b[0m\u001b[0m\n\u001b[1;32m      5\u001b[0m \u001b[0mfiles\u001b[0m\u001b[0;34m.\u001b[0m\u001b[0mdownload\u001b[0m\u001b[0;34m(\u001b[0m \u001b[0;34m\"/content/data/dm.cpkt.index\"\u001b[0m \u001b[0;34m)\u001b[0m\u001b[0;34m\u001b[0m\u001b[0m\n",
            "\u001b[0;32m/usr/local/lib/python3.6/dist-packages/google/colab/files.py\u001b[0m in \u001b[0;36mdownload\u001b[0;34m(filename)\u001b[0m\n\u001b[1;32m    140\u001b[0m       \u001b[0;32mraise\u001b[0m \u001b[0mOSError\u001b[0m\u001b[0;34m(\u001b[0m\u001b[0mmsg\u001b[0m\u001b[0;34m)\u001b[0m\u001b[0;34m\u001b[0m\u001b[0m\n\u001b[1;32m    141\u001b[0m     \u001b[0;32melse\u001b[0m\u001b[0;34m:\u001b[0m\u001b[0;34m\u001b[0m\u001b[0m\n\u001b[0;32m--> 142\u001b[0;31m       \u001b[0;32mraise\u001b[0m \u001b[0mFileNotFoundError\u001b[0m\u001b[0;34m(\u001b[0m\u001b[0mmsg\u001b[0m\u001b[0;34m)\u001b[0m  \u001b[0;31m# pylint: disable=undefined-variable\u001b[0m\u001b[0;34m\u001b[0m\u001b[0m\n\u001b[0m\u001b[1;32m    143\u001b[0m \u001b[0;34m\u001b[0m\u001b[0m\n\u001b[1;32m    144\u001b[0m   \u001b[0mstarted\u001b[0m \u001b[0;34m=\u001b[0m \u001b[0mthreading\u001b[0m\u001b[0;34m.\u001b[0m\u001b[0mEvent\u001b[0m\u001b[0;34m(\u001b[0m\u001b[0;34m)\u001b[0m\u001b[0;34m\u001b[0m\u001b[0m\n",
            "\u001b[0;31mFileNotFoundError\u001b[0m: Cannot find file: /content/data/dm.cpkt.meta"
          ]
        }
      ]
    },
    {
      "metadata": {
        "id": "Augw4NuOWtrz",
        "colab_type": "code",
        "colab": {
          "resources": {
            "http://localhost:8080/nbextensions/google.colab/files.js": {
              "data": "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",
              "ok": true,
              "headers": [
                [
                  "content-type",
                  "application/javascript"
                ]
              ],
              "status": 200,
              "status_text": ""
            }
          },
          "base_uri": "https://localhost:8080/",
          "height": 239
        },
        "outputId": "6e5b0f4b-c3ae-40a0-cf1e-653f0f8782dc"
      },
      "cell_type": "code",
      "source": [
        "uploaded = files.upload()\n",
        "\n",
        "for fn in uploaded.keys():\n",
        "  print('User uploaded file \"{name}\" with length {length} bytes'.format(\n",
        "      name=fn, length=len(uploaded[fn])))"
      ],
      "execution_count": 14,
      "outputs": [
        {
          "output_type": "display_data",
          "data": {
            "text/html": [
              "\n",
              "     <input type=\"file\" id=\"files-ac46df65-8a94-4273-8574-96108b05b3a4\" name=\"files[]\" multiple disabled />\n",
              "     <output id=\"result-ac46df65-8a94-4273-8574-96108b05b3a4\">\n",
              "      Upload widget is only available when the cell has been executed in the\n",
              "      current browser session. Please rerun this cell to enable.\n",
              "      </output>\n",
              "      <script src=\"/nbextensions/google.colab/files.js\"></script> "
            ],
            "text/plain": [
              "<IPython.core.display.HTML object>"
            ]
          },
          "metadata": {
            "tags": []
          }
        },
        {
          "output_type": "stream",
          "text": [
            "Saving checkpoint to checkpoint (1)\n",
            "Saving dm.ckpt.data-00000-of-00001 to dm.ckpt.data-00000-of-00001\n",
            "Saving dm.ckpt.index to dm.ckpt.index\n",
            "Saving dm.ckpt.meta to dm.ckpt.meta\n",
            "User uploaded file \"checkpoint\" with length 71 bytes\n",
            "User uploaded file \"dm.ckpt.data-00000-of-00001\" with length 28439112 bytes\n",
            "User uploaded file \"dm.ckpt.index\" with length 31236 bytes\n",
            "User uploaded file \"dm.ckpt.meta\" with length 3440048 bytes\n"
          ],
          "name": "stdout"
        }
      ]
    },
    {
      "metadata": {
        "id": "_FoH7i-EXtEt",
        "colab_type": "code",
        "colab": {
          "base_uri": "https://localhost:8080/",
          "height": 51
        },
        "outputId": "73fe749f-fd95-4236-f95f-b5e40c346018"
      },
      "cell_type": "code",
      "source": [
        "!ls data\n",
        "!pwd"
      ],
      "execution_count": 305,
      "outputs": [
        {
          "output_type": "stream",
          "text": [
            "checkpoint  dm.ckpt.data-00000-of-00001  dm.ckpt.index\tdm.ckpt.meta\n",
            "/content\n"
          ],
          "name": "stdout"
        }
      ]
    },
    {
      "metadata": {
        "id": "T5KNcT59p6kM",
        "colab_type": "text"
      },
      "cell_type": "markdown",
      "source": [
        "### Predict the Sign Type for Each Image"
      ]
    },
    {
      "metadata": {
        "id": "5TQ4Q376p6kN",
        "colab_type": "code",
        "colab": {}
      },
      "cell_type": "code",
      "source": [
        "### Run the predictions here and use the model to output the prediction for each image.\n",
        "### Make sure to pre-process the images with the same pre-processing pipeline used earlier.\n",
        "### Feel free to use as many code cells as needed.\n",
        "batchpredict = tf.argmax(tf.nn.softmax(logits),1)\n",
        "correct_prediction = tf.equal(tf.argmax(tf.nn.softmax(logits),1),tf.argmax(one_hot_y,1))\n",
        "accuracy_operation = tf.reduce_mean(tf.cast(correct_prediction,tf.float32))\n",
        "\n",
        "batch_size = 128\n",
        "def evaluate_test(X_data,y_data):\n",
        "  predictions = []\n",
        "  total_accuracy = 0\n",
        "  sess = tf.get_default_session()\n",
        "  for offset in range(0,n_test,batch_size):\n",
        "    end = min(offset+batch_size,n_test)\n",
        "    batch_x, batch_y = X_data[offset:end], y_data[offset:end]\n",
        "    predict = sess.run(batchpredict,feed_dict={x:batch_x, k:1.0})\n",
        "    accuracy = sess.run(accuracy_operation, feed_dict={x:batch_x, y:batch_y, k:1.0})\n",
        "    total_accuracy += (accuracy*batch_y.size)\n",
        "    predictions.append(predict)\n",
        "  return total_accuracy/n_test, predictions"
      ],
      "execution_count": 0,
      "outputs": []
    },
    {
      "metadata": {
        "id": "ufEqmo26pkCx",
        "colab_type": "code",
        "colab": {
          "base_uri": "https://localhost:8080/",
          "height": 334
        },
        "outputId": "c1a5ca73-5f83-4e44-aad3-c3dd84b3949d"
      },
      "cell_type": "code",
      "source": [
        "import matplotlib.pyplot as plt\n",
        "plt.imshow(X_test[0])\n",
        "print(y_test[0])\n",
        "\n",
        "with tf.Session() as sess:\n",
        "  sess.run(tf.global_variables_initializer())\n",
        "  saver = tf.train.Saver()\n",
        "  saver.restore(sess, tf.train.latest_checkpoint('data'))\n",
        "  test_accuracy, predictions = evaluate_test(X_test, y_test)\n",
        "  print(predictions[0][0])\n",
        "  print(\"Test Accuray = {:.3f}\".format(test_accuracy))"
      ],
      "execution_count": 294,
      "outputs": [
        {
          "output_type": "stream",
          "text": [
            "16\n",
            "INFO:tensorflow:Restoring parameters from data/dm.ckpt\n",
            "16\n",
            "Test Accuray = 0.929\n"
          ],
          "name": "stdout"
        },
        {
          "output_type": "display_data",
          "data": {
            "image/png": "[encoded data removed]",
            "text/plain": [
              "<matplotlib.figure.Figure at 0x7f7e94ecb2b0>"
            ]
          },
          "metadata": {
            "tags": []
          }
        }
      ]
    },
    {
      "metadata": {
        "id": "NvFqiSpop6kP",
        "colab_type": "text"
      },
      "cell_type": "markdown",
      "source": [
        "### Analyze Performance"
      ]
    },
    {
      "metadata": {
        "id": "RRoKzPcup6kQ",
        "colab_type": "code",
        "colab": {
          "base_uri": "https://localhost:8080/",
          "height": 34
        },
        "outputId": "51bf172e-6251-4ed6-9cad-07b63cb98020"
      },
      "cell_type": "code",
      "source": [
        "### Calculate the accuracy for these 5 new images. \n",
        "### For example, if the model predicted 1 out of 5 signs correctly, it's 20% accurate on these new images.\n",
        "print(\"Test Accuray = {:.3f}\".format(test_accuracy))"
      ],
      "execution_count": 296,
      "outputs": [
        {
          "output_type": "stream",
          "text": [
            "Test Accuray = 0.929\n"
          ],
          "name": "stdout"
        }
      ]
    },
    {
      "metadata": {
        "id": "qqiiKrFVp6kS",
        "colab_type": "text"
      },
      "cell_type": "markdown",
      "source": [
        "### Output Top 5 Softmax Probabilities For Each Image Found on the Web"
      ]
    },
    {
      "metadata": {
        "id": "Ema75fKtp6kS",
        "colab_type": "text"
      },
      "cell_type": "markdown",
      "source": [
        "For each of the new images, print out the model's softmax probabilities to show the **certainty** of the model's predictions (limit the output to the top 5 probabilities for each image). [`tf.nn.top_k`](https://www.tensorflow.org/versions/r0.12/api_docs/python/nn.html#top_k) could prove helpful here. \n",
        "\n",
        "The example below demonstrates how tf.nn.top_k can be used to find the top k predictions for each image.\n",
        "\n",
        "`tf.nn.top_k` will return the values and indices (class ids) of the top k predictions. So if k=3, for each sign, it'll return the 3 largest probabilities (out of a possible 43) and the correspoding class ids.\n",
        "\n",
        "Take this numpy array as an example. The values in the array represent predictions. The array contains softmax probabilities for five candidate images with six possible classes. `tf.nn.top_k` is used to choose the three classes with the highest probability:\n",
        "\n",
        "```\n",
        "# (5, 6) array\n",
        "a = np.array([[ 0.24879643,  0.07032244,  0.12641572,  0.34763842,  0.07893497,\n",
        "         0.12789202],\n",
        "       [ 0.28086119,  0.27569815,  0.08594638,  0.0178669 ,  0.18063401,\n",
        "         0.15899337],\n",
        "       [ 0.26076848,  0.23664738,  0.08020603,  0.07001922,  0.1134371 ,\n",
        "         0.23892179],\n",
        "       [ 0.11943333,  0.29198961,  0.02605103,  0.26234032,  0.1351348 ,\n",
        "         0.16505091],\n",
        "       [ 0.09561176,  0.34396535,  0.0643941 ,  0.16240774,  0.24206137,\n",
        "         0.09155967]])\n",
        "```\n",
        "\n",
        "Running it through `sess.run(tf.nn.top_k(tf.constant(a), k=3))` produces:\n",
        "\n",
        "```\n",
        "TopKV2(values=array([[ 0.34763842,  0.24879643,  0.12789202],\n",
        "       [ 0.28086119,  0.27569815,  0.18063401],\n",
        "       [ 0.26076848,  0.23892179,  0.23664738],\n",
        "       [ 0.29198961,  0.26234032,  0.16505091],\n",
        "       [ 0.34396535,  0.24206137,  0.16240774]]), indices=array([[3, 0, 5],\n",
        "       [0, 1, 4],\n",
        "       [0, 5, 1],\n",
        "       [1, 3, 5],\n",
        "       [1, 4, 3]], dtype=int32))\n",
        "```\n",
        "\n",
        "Looking just at the first row we get `[ 0.34763842,  0.24879643,  0.12789202]`, you can confirm these are the 3 largest probabilities in `a`. You'll also notice `[3, 0, 5]` are the corresponding indices."
      ]
    },
    {
      "metadata": {
        "id": "Ph6ma69fp6kU",
        "colab_type": "code",
        "colab": {}
      },
      "cell_type": "code",
      "source": [
        "### Print out the top five softmax probabilities for the predictions on the German traffic sign images found on the web. \n",
        "### Feel free to use as many code cells as needed.\n",
        "top5 = tf.nn.top_k(tf.nn.softmax(logits),k=5)\n",
        "batch_size = 128\n",
        "def eval_top5(X_data):\n",
        "  fulltop5 = []\n",
        "  total_accuracy = 0\n",
        "  sess = tf.get_default_session()\n",
        "  for offset in range(0,n_test,batch_size):\n",
        "    end = min(offset+batch_size,n_test)\n",
        "    batch_x = X_data[offset:end]\n",
        "    t5 = sess.run(top5,feed_dict={x:batch_x, k:1.0})\n",
        "    fulltop5.append(t5)\n",
        "  return fulltop5"
      ],
      "execution_count": 0,
      "outputs": []
    },
    {
      "metadata": {
        "id": "HZ1Plz6f2LsD",
        "colab_type": "code",
        "colab": {
          "base_uri": "https://localhost:8080/",
          "height": 4386
        },
        "outputId": "f1a2bdd1-2959-45c3-ee46-c2286bd15f10"
      },
      "cell_type": "code",
      "source": [
        "with tf.Session() as sess:\n",
        "  sess.run(tf.global_variables_initializer())\n",
        "  saver = tf.train.Saver()\n",
        "  saver.restore(sess, tf.train.latest_checkpoint('data'))\n",
        "  top5_out = eval_top5(X_test)\n",
        "  print(top5_out[0][0])"
      ],
      "execution_count": 300,
      "outputs": [
        {
          "output_type": "stream",
          "text": [
            "INFO:tensorflow:Restoring parameters from data/dm.ckpt\n",
            "[[9.99969363e-01 3.06335278e-05 2.38501384e-12 5.17196751e-15\n",
            "  1.71609246e-16]\n",
            " [1.00000000e+00 6.95084780e-19 3.70478242e-21 2.78873532e-24\n",
            "  2.92722074e-25]\n",
            " [1.00000000e+00 3.17105622e-14 5.25293094e-16 2.62187336e-17\n",
            "  4.92591897e-19]\n",
            " [1.00000000e+00 6.09233096e-13 3.70352383e-14 1.30655938e-18\n",
            "  3.92936821e-19]\n",
            " [1.00000000e+00 2.32870309e-20 6.77093278e-24 3.45307147e-25\n",
            "  1.18400357e-26]\n",
            " [1.00000000e+00 1.48156854e-14 6.29175756e-16 1.69967224e-19\n",
            "  1.12224964e-19]\n",
            " [1.00000000e+00 1.28086164e-09 2.15418881e-11 7.13793919e-14\n",
            "  1.00028670e-14]\n",
            " [1.00000000e+00 8.19047261e-12 2.09572417e-14 1.01351006e-16\n",
            "  1.87827501e-19]\n",
            " [1.00000000e+00 3.90798562e-22 5.94013648e-27 8.42333098e-28\n",
            "  2.51100218e-28]\n",
            " [1.00000000e+00 1.21740484e-20 5.33697787e-23 9.70724188e-24\n",
            "  4.20788978e-24]\n",
            " [9.96873319e-01 2.65232939e-03 4.73791821e-04 3.62121114e-07\n",
            "  2.71562442e-07]\n",
            " [1.00000000e+00 6.45514683e-11 1.60008170e-11 6.87062224e-13\n",
            "  8.88300325e-14]\n",
            " [1.00000000e+00 4.46411299e-08 1.14994592e-08 8.33224656e-10\n",
            "  2.85292345e-10]\n",
            " [9.99958515e-01 4.13801936e-05 8.58949250e-08 1.79800237e-11\n",
            "  4.26584289e-12]\n",
            " [1.00000000e+00 1.01108003e-18 9.90374869e-19 3.93101715e-19\n",
            "  1.52142516e-22]\n",
            " [9.99891758e-01 5.80689157e-05 3.07955561e-05 1.93731739e-05\n",
            "  1.74524492e-11]\n",
            " [9.90730345e-01 5.04725287e-03 3.13992100e-03 5.70356962e-04\n",
            "  2.65100040e-04]\n",
            " [1.00000000e+00 1.02709258e-10 3.46807760e-12 2.58994432e-13\n",
            "  1.88611219e-15]\n",
            " [9.99929070e-01 6.59145153e-05 4.77276490e-06 2.35291864e-07\n",
            "  1.04483888e-08]\n",
            " [1.00000000e+00 6.86406623e-30 7.19416178e-31 5.78128362e-33\n",
            "  2.73814511e-33]\n",
            " [1.00000000e+00 2.62122336e-17 2.68950021e-18 1.69254601e-22\n",
            "  3.05299489e-23]\n",
            " [1.00000000e+00 8.05326739e-09 4.06690515e-10 1.68102240e-10\n",
            "  2.28575405e-12]\n",
            " [1.00000000e+00 7.30785314e-21 5.66044338e-21 1.11254288e-21\n",
            "  9.92467483e-24]\n",
            " [1.00000000e+00 1.86538610e-12 3.64539636e-14 2.19567587e-18\n",
            "  1.81203488e-18]\n",
            " [1.00000000e+00 6.77562119e-13 4.32703224e-15 1.43554085e-15\n",
            "  5.22251336e-19]\n",
            " [1.00000000e+00 1.33954872e-13 2.32632808e-16 2.65521900e-17\n",
            "  9.61680826e-21]\n",
            " [1.00000000e+00 8.24812495e-14 1.29592958e-14 3.78208893e-15\n",
            "  2.86162934e-16]\n",
            " [1.00000000e+00 2.01764386e-16 7.91396501e-25 1.12779968e-25\n",
            "  6.86104377e-26]\n",
            " [9.99630451e-01 3.69528832e-04 1.60329615e-15 1.35548060e-18\n",
            "  5.80993245e-20]\n",
            " [1.00000000e+00 4.03892142e-10 2.88658993e-11 1.70715899e-14\n",
            "  7.46601013e-15]\n",
            " [9.99986291e-01 1.32275345e-05 4.64527886e-07 9.73219010e-13\n",
            "  1.20554269e-14]\n",
            " [1.00000000e+00 2.79589470e-23 8.93746434e-27 1.53103257e-28\n",
            "  1.33339509e-28]\n",
            " [1.00000000e+00 6.76372292e-11 2.89905686e-13 7.24334719e-15\n",
            "  2.83492240e-16]\n",
            " [9.99976039e-01 1.96125056e-05 1.87464536e-06 1.18178082e-06\n",
            "  9.75620651e-07]\n",
            " [1.00000000e+00 1.36734863e-08 8.80301387e-12 4.35290692e-12\n",
            "  5.00525480e-16]\n",
            " [1.00000000e+00 3.47934566e-17 5.34544667e-18 4.14976702e-18\n",
            "  2.74417871e-18]\n",
            " [1.00000000e+00 2.56870483e-14 1.88323254e-19 1.26457407e-19\n",
            "  1.62157175e-20]\n",
            " [1.00000000e+00 5.60529704e-13 1.52445517e-14 2.25352607e-15\n",
            "  2.08015177e-15]\n",
            " [9.99769509e-01 1.39578260e-04 9.08923612e-05 2.99269480e-08\n",
            "  1.62787217e-09]\n",
            " [9.86949146e-01 1.04984017e-02 1.19123398e-03 1.03262148e-03\n",
            "  1.28847460e-04]\n",
            " [1.00000000e+00 3.12647934e-08 1.81218560e-08 2.27722299e-10\n",
            "  1.44171990e-12]\n",
            " [9.99946475e-01 5.34853098e-05 7.66666730e-08 1.15419327e-08\n",
            "  5.44113310e-10]\n",
            " [1.00000000e+00 2.39989608e-11 1.85901630e-17 1.18680849e-24\n",
            "  3.17378064e-28]\n",
            " [1.00000000e+00 6.35238195e-10 4.18024143e-10 6.47338225e-11\n",
            "  3.62747263e-11]\n",
            " [1.00000000e+00 7.35491001e-09 4.68626959e-09 2.47382292e-09\n",
            "  2.86136878e-11]\n",
            " [7.01403737e-01 2.98593074e-01 3.18781190e-06 4.00074585e-10\n",
            "  1.29572450e-10]\n",
            " [9.99998689e-01 1.29268437e-06 2.07058015e-09 1.31516759e-12\n",
            "  1.32198194e-14]\n",
            " [1.00000000e+00 1.72362561e-22 4.25571507e-27 3.08852357e-30\n",
            "  5.31395372e-33]\n",
            " [7.31996179e-01 2.46512234e-01 2.14828029e-02 8.81731012e-06\n",
            "  2.39915199e-08]\n",
            " [7.45951831e-01 2.53990769e-01 4.80676026e-05 7.88130365e-06\n",
            "  1.08493111e-06]\n",
            " [9.80882943e-01 1.58983450e-02 1.82169315e-03 1.39632239e-03\n",
            "  4.79631410e-07]\n",
            " [1.00000000e+00 1.25239810e-21 1.87281027e-25 8.83855955e-28\n",
            "  3.25796659e-29]\n",
            " [1.00000000e+00 1.38967145e-11 4.77361423e-13 1.07787368e-13\n",
            "  4.07608136e-15]\n",
            " [1.00000000e+00 3.50658115e-13 1.60298721e-18 5.46788236e-21\n",
            "  2.57570604e-25]\n",
            " [1.00000000e+00 1.19751510e-29 8.95073401e-35 5.51956472e-35\n",
            "  3.85958654e-36]\n",
            " [9.99997020e-01 2.35509788e-06 5.83764290e-07 3.29021171e-10\n",
            "  6.51557835e-11]\n",
            " [1.00000000e+00 3.61769208e-13 3.43225096e-13 3.09295964e-13\n",
            "  4.01688104e-17]\n",
            " [9.99995351e-01 4.68598228e-06 3.74141297e-14 1.70312474e-14\n",
            "  1.62773312e-17]\n",
            " [1.00000000e+00 1.21920724e-10 1.69322417e-22 1.62481381e-23\n",
            "  1.32369330e-23]\n",
            " [1.00000000e+00 9.04060588e-20 1.76814867e-26 1.49788946e-29\n",
            "  2.31769958e-32]\n",
            " [1.00000000e+00 1.02081925e-18 5.24731534e-19 6.11888117e-21\n",
            "  4.17567377e-22]\n",
            " [1.00000000e+00 1.47939115e-14 1.14721255e-18 1.47205999e-20\n",
            "  5.28678062e-25]\n",
            " [1.00000000e+00 2.16361326e-12 1.34944751e-20 8.79624348e-21\n",
            "  6.31756870e-22]\n",
            " [1.00000000e+00 2.36432878e-12 6.88031338e-13 1.47850183e-15\n",
            "  3.19655610e-17]\n",
            " [1.00000000e+00 1.27577365e-12 3.30029759e-13 1.67071605e-15\n",
            "  8.96975704e-16]\n",
            " [1.00000000e+00 7.16498860e-10 3.94950541e-19 1.15302838e-21\n",
            "  9.60287221e-22]\n",
            " [9.99981642e-01 1.58247058e-05 2.13029284e-06 3.38531549e-07\n",
            "  1.41150212e-08]\n",
            " [1.00000000e+00 1.91603555e-09 2.09635996e-14 2.45078180e-17\n",
            "  1.46200360e-20]\n",
            " [9.48595047e-01 5.13821356e-02 2.22273193e-05 5.83431699e-07\n",
            "  2.78951529e-09]\n",
            " [9.99990225e-01 9.81945050e-06 1.18596013e-08 1.76934756e-09\n",
            "  4.50829429e-10]\n",
            " [1.00000000e+00 1.39535507e-15 1.18450252e-15 6.41264663e-16\n",
            "  6.15112256e-16]\n",
            " [1.00000000e+00 2.05450349e-14 1.42397931e-21 5.98546205e-22\n",
            "  2.73439233e-22]\n",
            " [9.98551428e-01 1.44009455e-03 8.14051964e-06 1.56200585e-07\n",
            "  1.02864298e-07]\n",
            " [9.99940395e-01 5.94322628e-05 9.00125556e-08 7.62969510e-09\n",
            "  1.71778780e-09]\n",
            " [1.00000000e+00 2.06909628e-11 1.96794946e-12 5.51855274e-13\n",
            "  3.88081711e-13]\n",
            " [1.00000000e+00 1.33149590e-14 3.99070637e-15 5.75387231e-17\n",
            "  3.85971176e-17]\n",
            " [7.31061161e-01 2.68938661e-01 1.55016508e-07 1.78419467e-11\n",
            "  1.24653361e-11]\n",
            " [1.00000000e+00 2.70024031e-20 5.67234788e-23 1.34700120e-25\n",
            "  1.87483830e-27]\n",
            " [9.95341659e-01 3.65632866e-03 1.00129819e-03 7.35763990e-07\n",
            "  7.24713789e-10]\n",
            " [1.00000000e+00 4.49161490e-08 5.83480209e-10 2.04440270e-10\n",
            "  1.20999849e-10]\n",
            " [9.99988794e-01 1.10926358e-05 1.23619557e-07 5.07729538e-08\n",
            "  8.81045459e-09]\n",
            " [1.00000000e+00 1.77554030e-14 4.22800201e-17 1.21415431e-19\n",
            "  1.66727994e-20]\n",
            " [1.00000000e+00 5.56900287e-16 3.47848532e-23 1.12724418e-26\n",
            "  1.32694057e-28]\n",
            " [9.80716646e-01 1.92468520e-02 3.64938023e-05 1.12827130e-10\n",
            "  1.77191387e-11]\n",
            " [1.00000000e+00 9.89222225e-21 9.99469649e-24 9.49488316e-27\n",
            "  8.62729563e-28]\n",
            " [1.00000000e+00 1.85051352e-15 1.47620817e-15 5.52332219e-17\n",
            "  1.09398143e-17]\n",
            " [1.00000000e+00 3.26426779e-14 1.75857027e-18 2.08464862e-22\n",
            "  1.85727408e-23]\n",
            " [9.99999762e-01 1.84229393e-07 1.05168333e-07 5.28995123e-08\n",
            "  1.26984631e-10]\n",
            " [1.00000000e+00 1.73962388e-15 7.53832578e-23 8.15730849e-24\n",
            "  4.23764245e-24]\n",
            " [9.99999166e-01 6.81958909e-07 1.01229666e-07 9.54352597e-10\n",
            "  6.86496554e-11]\n",
            " [1.00000000e+00 7.44530526e-15 7.43072952e-20 3.42660053e-20\n",
            "  3.14940714e-20]\n",
            " [1.00000000e+00 2.56233557e-20 9.07969097e-21 5.47679053e-23\n",
            "  6.26222932e-25]\n",
            " [1.00000000e+00 2.84603714e-14 7.63964691e-16 3.54525652e-21\n",
            "  1.21513016e-22]\n",
            " [1.00000000e+00 8.29468216e-10 2.95438563e-10 5.81140830e-11\n",
            "  1.22603455e-11]\n",
            " [1.00000000e+00 1.68200700e-25 4.08851342e-35 8.02744531e-38\n",
            "  4.46552678e-38]\n",
            " [1.00000000e+00 1.04699767e-12 9.85436776e-14 8.63801817e-16\n",
            "  2.09053092e-17]\n",
            " [1.00000000e+00 6.53070859e-13 2.28801997e-14 1.06886757e-17\n",
            "  7.18296295e-19]\n",
            " [1.00000000e+00 5.09387179e-19 4.18784936e-20 4.53902113e-21\n",
            "  2.38994284e-22]\n",
            " [1.00000000e+00 2.98721335e-23 5.19213380e-29 4.18508113e-30\n",
            "  1.05697172e-31]\n",
            " [1.00000000e+00 3.82713722e-23 4.53695951e-29 2.85601538e-29\n",
            "  1.60940561e-29]\n",
            " [1.00000000e+00 2.10007289e-11 2.45796613e-22 5.64885371e-23\n",
            "  1.10391751e-23]\n",
            " [1.00000000e+00 2.73776775e-19 3.15884023e-20 1.97357862e-21\n",
            "  1.20597761e-22]\n",
            " [9.99997258e-01 2.20714173e-06 4.62297152e-07 3.44844509e-08\n",
            "  2.92838154e-09]\n",
            " [9.99999523e-01 4.49621751e-07 2.28262166e-11 9.99784110e-12\n",
            "  4.21093282e-12]\n",
            " [1.00000000e+00 2.65832549e-13 2.87706910e-19 3.59300569e-20\n",
            "  2.47764359e-20]\n",
            " [1.00000000e+00 9.80617870e-22 5.74641585e-24 4.89870874e-27\n",
            "  1.23353453e-32]\n",
            " [1.00000000e+00 1.74645353e-14 5.49903467e-19 1.53032149e-19\n",
            "  8.58203375e-20]\n",
            " [1.00000000e+00 7.12158237e-17 2.50187316e-19 4.74623375e-20\n",
            "  5.60031763e-24]\n",
            " [9.93341863e-01 6.65809866e-03 3.26943638e-14 2.54472482e-14\n",
            "  1.31790322e-15]\n",
            " [1.00000000e+00 6.66486710e-16 5.40039851e-17 3.77169709e-17\n",
            "  2.73440963e-17]\n",
            " [9.99996662e-01 3.33138314e-06 4.43571944e-14 4.42395151e-17\n",
            "  1.16894721e-19]\n",
            " [1.00000000e+00 6.07934167e-13 1.14153987e-14 8.96705839e-15\n",
            "  5.53530864e-15]\n",
            " [1.00000000e+00 6.00102726e-16 1.87750652e-21 1.67428280e-22\n",
            "  1.49614496e-25]\n",
            " [1.00000000e+00 3.12927777e-19 1.82608547e-19 2.06646974e-22\n",
            "  1.72887229e-24]\n",
            " [9.99998927e-01 6.04298407e-07 4.86163742e-07 2.09169499e-08\n",
            "  1.90117095e-08]\n",
            " [1.00000000e+00 2.09999436e-17 5.02295701e-20 9.61185184e-22\n",
            "  3.81604508e-22]\n",
            " [9.18096960e-01 7.75993615e-02 4.29775752e-03 5.85289763e-06\n",
            "  3.71722275e-09]\n",
            " [9.82346475e-01 1.70099065e-02 6.43344480e-04 2.74911201e-07\n",
            "  1.17884291e-07]\n",
            " [1.00000000e+00 7.09297676e-10 3.41640588e-13 1.22962973e-18\n",
            "  1.73577486e-20]\n",
            " [1.00000000e+00 2.42415246e-13 7.48372108e-14 7.35898148e-16\n",
            "  5.16694906e-19]\n",
            " [1.00000000e+00 1.41489315e-14 8.74084056e-16 8.66137014e-18\n",
            "  6.86096646e-18]\n",
            " [1.00000000e+00 1.98418448e-10 5.25065560e-13 1.89299476e-16\n",
            "  4.39467773e-19]\n",
            " [5.78112900e-01 4.21883225e-01 3.88542639e-06 1.84576210e-09\n",
            "  7.49548479e-10]\n",
            " [1.00000000e+00 7.29806168e-17 6.81391353e-18 5.64739727e-20\n",
            "  7.25809548e-21]\n",
            " [1.00000000e+00 3.08749346e-11 4.76323843e-16 3.30525491e-17\n",
            "  2.33932831e-17]\n",
            " [1.00000000e+00 3.77833412e-14 1.02334006e-14 8.14111027e-17\n",
            "  2.95803988e-21]\n",
            " [1.00000000e+00 4.87891316e-23 6.21221307e-26 2.52727990e-29\n",
            "  4.98342423e-30]\n",
            " [7.54299939e-01 1.84473857e-01 4.46915776e-02 8.41895770e-03\n",
            "  4.77860821e-03]]\n"
          ],
          "name": "stdout"
        }
      ]
    },
    {
      "metadata": {
        "id": "Uoh7fSiip6kY",
        "colab_type": "text"
      },
      "cell_type": "markdown",
      "source": [
        "### Project Writeup\n",
        "\n",
        "Once you have completed the code implementation, document your results in a project writeup using this [template](https://github.com/udacity/CarND-Traffic-Sign-Classifier-Project/blob/master/writeup_template.md) as a guide. The writeup can be in a markdown or pdf file. "
      ]
    },
    {
      "metadata": {
        "id": "efLuQc9up6kY",
        "colab_type": "text"
      },
      "cell_type": "markdown",
      "source": [
        "> **Note**: Once you have completed all of the code implementations and successfully answered each question above, you may finalize your work by exporting the iPython Notebook as an HTML document. You can do this by using the menu above and navigating to  \\n\",\n",
        "    \"**File -> Download as -> HTML (.html)**. Include the finished document along with this notebook as your submission."
      ]
    },
    {
      "metadata": {
        "id": "bEvDnjGRp6kZ",
        "colab_type": "text"
      },
      "cell_type": "markdown",
      "source": [
        "---\n",
        "\n",
        "## Step 4 (Optional): Visualize the Neural Network's State with Test Images\n",
        "\n",
        " This Section is not required to complete but acts as an additional excersise for understaning the output of a neural network's weights. While neural networks can be a great learning device they are often referred to as a black box. We can understand what the weights of a neural network look like better by plotting their feature maps. After successfully training your neural network you can see what it's feature maps look like by plotting the output of the network's weight layers in response to a test stimuli image. From these plotted feature maps, it's possible to see what characteristics of an image the network finds interesting. For a sign, maybe the inner network feature maps react with high activation to the sign's boundary outline or to the contrast in the sign's painted symbol.\n",
        "\n",
        " Provided for you below is the function code that allows you to get the visualization output of any tensorflow weight layer you want. The inputs to the function should be a stimuli image, one used during training or a new one you provided, and then the tensorflow variable name that represents the layer's state during the training process, for instance if you wanted to see what the [LeNet lab's](https://classroom.udacity.com/nanodegrees/nd013/parts/fbf77062-5703-404e-b60c-95b78b2f3f9e/modules/6df7ae49-c61c-4bb2-a23e-6527e69209ec/lessons/601ae704-1035-4287-8b11-e2c2716217ad/concepts/d4aca031-508f-4e0b-b493-e7b706120f81) feature maps looked like for it's second convolutional layer you could enter conv2 as the tf_activation variable.\n",
        "\n",
        "For an example of what feature map outputs look like, check out NVIDIA's results in their paper [End-to-End Deep Learning for Self-Driving Cars](https://devblogs.nvidia.com/parallelforall/deep-learning-self-driving-cars/) in the section Visualization of internal CNN State. NVIDIA was able to show that their network's inner weights had high activations to road boundary lines by comparing feature maps from an image with a clear path to one without. Try experimenting with a similar test to show that your trained network's weights are looking for interesting features, whether it's looking at differences in feature maps from images with or without a sign, or even what feature maps look like in a trained network vs a completely untrained one on the same sign image.\n",
        "\n",
        "<figure>\n",
        " <img src=\"visualize_cnn.png\" width=\"380\" alt=\"Combined Image\" />\n",
        " <figcaption>\n",
        " <p></p> \n",
        " <p style=\"text-align: center;\"> Your output should look something like this (above)</p> \n",
        " </figcaption>\n",
        "</figure>\n",
        " <p></p> \n"
      ]
    },
    {
      "metadata": {
        "id": "-E8L05hip6ka",
        "colab_type": "code",
        "colab": {}
      },
      "cell_type": "code",
      "source": [
        "### Visualize your network's feature maps here.\n",
        "### Feel free to use as many code cells as needed.\n",
        "\n",
        "# image_input: the test image being fed into the network to produce the feature maps\n",
        "# tf_activation: should be a tf variable name used during your training procedure that represents the calculated state of a specific weight layer\n",
        "# activation_min/max: can be used to view the activation contrast in more detail, by default matplot sets min and max to the actual min and max values of the output\n",
        "# plt_num: used to plot out multiple different weight feature map sets on the same block, just extend the plt number for each new feature map entry\n",
        "\n",
        "def outputFeatureMap(image_input, tf_activation, activation_min=-1, activation_max=-1 ,plt_num=1):\n",
        "    # Here make sure to preprocess your image_input in a way your network expects\n",
        "    # with size, normalization, ect if needed\n",
        "    # image_input =\n",
        "    # Note: x should be the same name as your network's tensorflow data placeholder variable\n",
        "    # If you get an error tf_activation is not defined it may be having trouble accessing the variable from inside a function\n",
        "    activation = tf_activation.eval(session=sess,feed_dict={x : image_input})\n",
        "    featuremaps = activation.shape[3]\n",
        "    plt.figure(plt_num, figsize=(15,15))\n",
        "    for featuremap in range(featuremaps):\n",
        "        plt.subplot(6,8, featuremap+1) # sets the number of feature maps to show on each row and column\n",
        "        plt.title('FeatureMap ' + str(featuremap)) # displays the feature map number\n",
        "        if activation_min != -1 & activation_max != -1:\n",
        "            plt.imshow(activation[0,:,:, featuremap], interpolation=\"nearest\", vmin =activation_min, vmax=activation_max, cmap=\"gray\")\n",
        "        elif activation_max != -1:\n",
        "            plt.imshow(activation[0,:,:, featuremap], interpolation=\"nearest\", vmax=activation_max, cmap=\"gray\")\n",
        "        elif activation_min !=-1:\n",
        "            plt.imshow(activation[0,:,:, featuremap], interpolation=\"nearest\", vmin=activation_min, cmap=\"gray\")\n",
        "        else:\n",
        "            plt.imshow(activation[0,:,:, featuremap], interpolation=\"nearest\", cmap=\"gray\")"
      ],
      "execution_count": 0,
      "outputs": []
    }
  ]
}